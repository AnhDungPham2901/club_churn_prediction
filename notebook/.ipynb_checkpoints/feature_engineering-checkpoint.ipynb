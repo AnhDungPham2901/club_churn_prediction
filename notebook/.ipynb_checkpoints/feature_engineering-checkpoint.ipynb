{
 "cells": [
  {
   "cell_type": "code",
   "execution_count": 1,
   "id": "eee9161e-be0d-49c3-b466-4ed5d89eb02c",
   "metadata": {},
   "outputs": [],
   "source": [
    "import sys\n",
    "import numpy as np\n",
    "import pandas as pd\n",
    "from datetime import datetime\n",
    "sys.path.append('/home/dungpa/club_churn_predictionn/')\n",
    "import configurations.paths as paths\n",
    "from sklearn.model_selection import train_test_split\n",
    "from pytorch_tabular import TabularModel\n",
    "from pytorch_tabular.models import CategoryEmbeddingModelConfig\n",
    "from pytorch_tabular.config import DataConfig, OptimizerConfig, TrainerConfig\n",
    "from pytorch_tabular.categorical_encoders import CategoricalEmbeddingTransformer"
   ]
  },
  {
   "cell_type": "code",
   "execution_count": 2,
   "id": "df85b90b-f27d-4dad-aeb8-a88165f41584",
   "metadata": {},
   "outputs": [],
   "source": [
    "df = pd.read_excel(paths.RAW_DATA + \"/club_churn_train.xlsx\")"
   ]
  },
  {
   "cell_type": "code",
   "execution_count": 3,
   "id": "84420196-e619-4f54-a1f6-28121004d759",
   "metadata": {},
   "outputs": [],
   "source": [
    "agent_customer_counts = df['AGENT_CODE'].value_counts()\n",
    "updated_agent_performance_groups = agent_customer_counts.map(lambda x: 0 if x == 1 else\n",
    "                                                            1 if 1 < x <= 5 else\n",
    "                                                            2 if 5 < x <= 15 else\n",
    "                                                            3)\n",
    "df['AGENT_PERFORMANCE'] = df['AGENT_CODE'].map(updated_agent_performance_groups)"
   ]
  },
  {
   "cell_type": "code",
   "execution_count": 4,
   "id": "2eed2276-13e0-4b79-a9ed-a867c41d2165",
   "metadata": {},
   "outputs": [
    {
     "data": {
      "text/html": [
       "<div>\n",
       "<style scoped>\n",
       "    .dataframe tbody tr th:only-of-type {\n",
       "        vertical-align: middle;\n",
       "    }\n",
       "\n",
       "    .dataframe tbody tr th {\n",
       "        vertical-align: top;\n",
       "    }\n",
       "\n",
       "    .dataframe thead th {\n",
       "        text-align: right;\n",
       "    }\n",
       "</style>\n",
       "<table border=\"1\" class=\"dataframe\">\n",
       "  <thead>\n",
       "    <tr style=\"text-align: right;\">\n",
       "      <th></th>\n",
       "      <th>MEMBERSHIP_TERM_YEARS</th>\n",
       "      <th>ANNUAL_FEES</th>\n",
       "      <th>MEMBER_MARITAL_STATUS</th>\n",
       "      <th>MEMBER_GENDER</th>\n",
       "      <th>MEMBER_ANNUAL_INCOME</th>\n",
       "      <th>MEMBER_OCCUPATION_CD</th>\n",
       "      <th>MEMBERSHIP_PACKAGE</th>\n",
       "      <th>MEMBER_AGE_AT_ISSUE</th>\n",
       "      <th>ADDITIONAL_MEMBERS</th>\n",
       "      <th>PAYMENT_MODE</th>\n",
       "      <th>AGENT_PERFORMANCE</th>\n",
       "      <th>INCOME_TO_FEE_RATIO</th>\n",
       "      <th>DAYS_STAY</th>\n",
       "      <th>START_YEAR</th>\n",
       "      <th>START_MONTH</th>\n",
       "      <th>START_DAY</th>\n",
       "      <th>START_YEAR_AGE_COMBINED</th>\n",
       "      <th>TARGET</th>\n",
       "    </tr>\n",
       "  </thead>\n",
       "  <tbody>\n",
       "    <tr>\n",
       "      <th>0</th>\n",
       "      <td>12.0</td>\n",
       "      <td>100000.00</td>\n",
       "      <td>Unknown</td>\n",
       "      <td>M</td>\n",
       "      <td>399996.0</td>\n",
       "      <td>1.0</td>\n",
       "      <td>TYPE-B</td>\n",
       "      <td>43.0</td>\n",
       "      <td>2.0</td>\n",
       "      <td>ANNUAL</td>\n",
       "      <td>1</td>\n",
       "      <td>0.250003</td>\n",
       "      <td>825</td>\n",
       "      <td>2011</td>\n",
       "      <td>9</td>\n",
       "      <td>29</td>\n",
       "      <td>86473.0</td>\n",
       "      <td>1</td>\n",
       "    </tr>\n",
       "    <tr>\n",
       "      <th>1</th>\n",
       "      <td>17.0</td>\n",
       "      <td>100514.23</td>\n",
       "      <td>M</td>\n",
       "      <td>F</td>\n",
       "      <td>549996.0</td>\n",
       "      <td>1.0</td>\n",
       "      <td>TYPE-A</td>\n",
       "      <td>40.0</td>\n",
       "      <td>2.0</td>\n",
       "      <td>ANNUAL</td>\n",
       "      <td>2</td>\n",
       "      <td>0.182754</td>\n",
       "      <td>1027</td>\n",
       "      <td>2011</td>\n",
       "      <td>3</td>\n",
       "      <td>11</td>\n",
       "      <td>80440.0</td>\n",
       "      <td>1</td>\n",
       "    </tr>\n",
       "    <tr>\n",
       "      <th>2</th>\n",
       "      <td>12.0</td>\n",
       "      <td>100000.80</td>\n",
       "      <td>M</td>\n",
       "      <td>M</td>\n",
       "      <td>1299996.0</td>\n",
       "      <td>1.0</td>\n",
       "      <td>TYPE-B</td>\n",
       "      <td>40.0</td>\n",
       "      <td>2.0</td>\n",
       "      <td>MONTHLY</td>\n",
       "      <td>0</td>\n",
       "      <td>0.076924</td>\n",
       "      <td>190</td>\n",
       "      <td>2013</td>\n",
       "      <td>6</td>\n",
       "      <td>25</td>\n",
       "      <td>80520.0</td>\n",
       "      <td>0</td>\n",
       "    </tr>\n",
       "    <tr>\n",
       "      <th>3</th>\n",
       "      <td>12.0</td>\n",
       "      <td>100000.99</td>\n",
       "      <td>M</td>\n",
       "      <td>M</td>\n",
       "      <td>500004.0</td>\n",
       "      <td>1.0</td>\n",
       "      <td>TYPE-B</td>\n",
       "      <td>50.0</td>\n",
       "      <td>3.0</td>\n",
       "      <td>ANNUAL</td>\n",
       "      <td>0</td>\n",
       "      <td>0.200000</td>\n",
       "      <td>1063</td>\n",
       "      <td>2011</td>\n",
       "      <td>2</td>\n",
       "      <td>3</td>\n",
       "      <td>100550.0</td>\n",
       "      <td>1</td>\n",
       "    </tr>\n",
       "    <tr>\n",
       "      <th>4</th>\n",
       "      <td>12.0</td>\n",
       "      <td>200001.60</td>\n",
       "      <td>Unknown</td>\n",
       "      <td>M</td>\n",
       "      <td>499992.0</td>\n",
       "      <td>2.0</td>\n",
       "      <td>TYPE-B</td>\n",
       "      <td>45.0</td>\n",
       "      <td>2.0</td>\n",
       "      <td>MONTHLY</td>\n",
       "      <td>1</td>\n",
       "      <td>0.400010</td>\n",
       "      <td>307</td>\n",
       "      <td>2013</td>\n",
       "      <td>2</td>\n",
       "      <td>28</td>\n",
       "      <td>90585.0</td>\n",
       "      <td>1</td>\n",
       "    </tr>\n",
       "  </tbody>\n",
       "</table>\n",
       "</div>"
      ],
      "text/plain": [
       "   MEMBERSHIP_TERM_YEARS  ANNUAL_FEES MEMBER_MARITAL_STATUS MEMBER_GENDER  \\\n",
       "0                   12.0    100000.00               Unknown             M   \n",
       "1                   17.0    100514.23                     M             F   \n",
       "2                   12.0    100000.80                     M             M   \n",
       "3                   12.0    100000.99                     M             M   \n",
       "4                   12.0    200001.60               Unknown             M   \n",
       "\n",
       "   MEMBER_ANNUAL_INCOME  MEMBER_OCCUPATION_CD MEMBERSHIP_PACKAGE  \\\n",
       "0              399996.0                   1.0             TYPE-B   \n",
       "1              549996.0                   1.0             TYPE-A   \n",
       "2             1299996.0                   1.0             TYPE-B   \n",
       "3              500004.0                   1.0             TYPE-B   \n",
       "4              499992.0                   2.0             TYPE-B   \n",
       "\n",
       "   MEMBER_AGE_AT_ISSUE  ADDITIONAL_MEMBERS PAYMENT_MODE  AGENT_PERFORMANCE  \\\n",
       "0                 43.0                 2.0       ANNUAL                  1   \n",
       "1                 40.0                 2.0       ANNUAL                  2   \n",
       "2                 40.0                 2.0      MONTHLY                  0   \n",
       "3                 50.0                 3.0       ANNUAL                  0   \n",
       "4                 45.0                 2.0      MONTHLY                  1   \n",
       "\n",
       "   INCOME_TO_FEE_RATIO  DAYS_STAY  START_YEAR  START_MONTH  START_DAY  \\\n",
       "0             0.250003        825        2011            9         29   \n",
       "1             0.182754       1027        2011            3         11   \n",
       "2             0.076924        190        2013            6         25   \n",
       "3             0.200000       1063        2011            2          3   \n",
       "4             0.400010        307        2013            2         28   \n",
       "\n",
       "   START_YEAR_AGE_COMBINED  TARGET  \n",
       "0                  86473.0       1  \n",
       "1                  80440.0       1  \n",
       "2                  80520.0       0  \n",
       "3                 100550.0       1  \n",
       "4                  90585.0       1  "
      ]
     },
     "execution_count": 4,
     "metadata": {},
     "output_type": "execute_result"
    }
   ],
   "source": [
    "# Handling Missing Values\n",
    "\n",
    "# For categorical variables\n",
    "df['MEMBER_MARITAL_STATUS'].fillna('Unknown', inplace=True)\n",
    "df['MEMBER_GENDER'].fillna('Unknown', inplace=True)\n",
    "\n",
    "# For numerical variables\n",
    "df['MEMBER_ANNUAL_INCOME'].fillna(df['MEMBER_ANNUAL_INCOME'].median(), inplace=True)\n",
    "df['MEMBER_OCCUPATION_CD'].fillna(df['MEMBER_OCCUPATION_CD'].median(), inplace=True)\n",
    "\n",
    "df['INCOME_TO_FEE_RATIO'] = np.divide(df['ANNUAL_FEES'], df['MEMBER_ANNUAL_INCOME'])\n",
    "# Replace inf or -inf with NaN or a desired value\n",
    "df['INCOME_TO_FEE_RATIO'].replace([np.inf, -np.inf], 0, inplace=True)\n",
    "\n",
    "\n",
    "# Convert START_DATE and END_DATE to datetime format for feature extraction\n",
    "df['START_DATE'] = pd.to_datetime(df['START_DATE'], format='%Y%m%d', errors='coerce')\n",
    "df['END_DATE'] = pd.to_datetime(df['END_DATE'], format='%Y%m%d', errors='coerce')\n",
    "\n",
    "current_date = datetime(2014,1,1)\n",
    "df['DAYS_STAY'] = (current_date - df['START_DATE']).dt.days\n",
    "\n",
    "# Extract year, month, and day from START_DATE and END_DATE\n",
    "df['START_YEAR'] = df['START_DATE'].dt.year\n",
    "df['START_MONTH'] = df['START_DATE'].dt.month\n",
    "df['START_DAY'] = df['START_DATE'].dt.day\n",
    "\n",
    "df['START_YEAR_AGE_COMBINED'] = df['START_YEAR'] * df[\"MEMBER_AGE_AT_ISSUE\"]\n",
    "# Encoding the target variable\n",
    "df['TARGET'] = df['MEMBERSHIP_STATUS'].apply(lambda x: 1 if x == 'CANCELLED' else 0)\n",
    "\n",
    "# Drop columns that won't be used for model training\n",
    "df.drop(columns=['ID', 'MEMBERSHIP_NUMBER', 'START_DATE', 'END_DATE', 'MEMBERSHIP_STATUS', 'AGENT_CODE'], inplace=True)\n",
    "\n",
    "df.head()\n"
   ]
  },
  {
   "cell_type": "code",
   "execution_count": 5,
   "id": "14105573-cb64-4563-a593-66fb21cc4cae",
   "metadata": {},
   "outputs": [
    {
     "data": {
      "text/plain": [
       "MEMBERSHIP_TERM_YEARS      0\n",
       "ANNUAL_FEES                0\n",
       "MEMBER_MARITAL_STATUS      0\n",
       "MEMBER_GENDER              0\n",
       "MEMBER_ANNUAL_INCOME       0\n",
       "MEMBER_OCCUPATION_CD       0\n",
       "MEMBERSHIP_PACKAGE         0\n",
       "MEMBER_AGE_AT_ISSUE        0\n",
       "ADDITIONAL_MEMBERS         0\n",
       "PAYMENT_MODE               0\n",
       "AGENT_PERFORMANCE          0\n",
       "INCOME_TO_FEE_RATIO        0\n",
       "DAYS_STAY                  0\n",
       "START_YEAR                 0\n",
       "START_MONTH                0\n",
       "START_DAY                  0\n",
       "START_YEAR_AGE_COMBINED    0\n",
       "TARGET                     0\n",
       "dtype: int64"
      ]
     },
     "execution_count": 5,
     "metadata": {},
     "output_type": "execute_result"
    }
   ],
   "source": [
    "df.isnull().sum()"
   ]
  },
  {
   "cell_type": "code",
   "execution_count": 6,
   "id": "5493d20e-ae22-491c-8229-bec034434063",
   "metadata": {},
   "outputs": [
    {
     "data": {
      "text/plain": [
       "MEMBERSHIP_TERM_YEARS      float64\n",
       "ANNUAL_FEES                float64\n",
       "MEMBER_MARITAL_STATUS       object\n",
       "MEMBER_GENDER               object\n",
       "MEMBER_ANNUAL_INCOME       float64\n",
       "MEMBER_OCCUPATION_CD       float64\n",
       "MEMBERSHIP_PACKAGE          object\n",
       "MEMBER_AGE_AT_ISSUE        float64\n",
       "ADDITIONAL_MEMBERS         float64\n",
       "PAYMENT_MODE                object\n",
       "AGENT_PERFORMANCE            int64\n",
       "INCOME_TO_FEE_RATIO        float64\n",
       "DAYS_STAY                    int64\n",
       "START_YEAR                   int64\n",
       "START_MONTH                  int64\n",
       "START_DAY                    int64\n",
       "START_YEAR_AGE_COMBINED    float64\n",
       "TARGET                       int64\n",
       "dtype: object"
      ]
     },
     "execution_count": 6,
     "metadata": {},
     "output_type": "execute_result"
    }
   ],
   "source": [
    "df.dtypes"
   ]
  },
  {
   "cell_type": "code",
   "execution_count": 7,
   "id": "b303d773-eb00-4ed4-8119-fe21e42a7c07",
   "metadata": {},
   "outputs": [
    {
     "data": {
      "text/html": [
       "<pre style=\"white-space:pre;overflow-x:auto;line-height:normal;font-family:Menlo,'DejaVu Sans Mono',consolas,'Courier New',monospace\">Generating Predictions... <span style=\"color: #729c1f; text-decoration-color: #729c1f\">━━━━━━━━━━━━━━━━━━━━━━━━━━━━━━━━━━━━━━━━</span> <span style=\"color: #800080; text-decoration-color: #800080\">100%</span> <span style=\"color: #808000; text-decoration-color: #808000\">0:00:00</span>\n",
       "</pre>\n"
      ],
      "text/plain": [
       "Generating Predictions... \u001b[38;2;114;156;31m━━━━━━━━━━━━━━━━━━━━━━━━━━━━━━━━━━━━━━━━\u001b[0m \u001b[35m100%\u001b[0m \u001b[33m0:00:00\u001b[0m\n"
      ]
     },
     "metadata": {},
     "output_type": "display_data"
    },
    {
     "data": {
      "text/html": [
       "<pre style=\"white-space:pre;overflow-x:auto;line-height:normal;font-family:Menlo,'DejaVu Sans Mono',consolas,'Courier New',monospace\"></pre>\n"
      ],
      "text/plain": []
     },
     "metadata": {},
     "output_type": "display_data"
    },
    {
     "data": {
      "text/html": [
       "<pre style=\"white-space:pre;overflow-x:auto;line-height:normal;font-family:Menlo,'DejaVu Sans Mono',consolas,'Courier New',monospace\">\n",
       "</pre>\n"
      ],
      "text/plain": [
       "\n"
      ]
     },
     "metadata": {},
     "output_type": "display_data"
    }
   ],
   "source": [
    "train, test = train_test_split(df, random_state=42, test_size=0.15)\n",
    "train, val = train_test_split(train, random_state=42, test_size=0.15)\n",
    "num_col_names = [\"MEMBERSHIP_TERM_YEARS\", \"ANNUAL_FEES\", \"MEMBER_ANNUAL_INCOME\", \"MEMBER_OCCUPATION_CD\",\n",
    "                \"MEMBER_AGE_AT_ISSUE\", \"ADDITIONAL_MEMBERS\", \"AGENT_PERFORMANCE\", \"INCOME_TO_FEE_RATIO\",\n",
    "                \"START_YEAR\", \"START_MONTH\", \"START_DAY\", \"START_YEAR_AGE_COMBINED\", \"DAYS_STAY\"]\n",
    "categorical_columns = [\"MEMBER_MARITAL_STATUS\", \"MEMBER_GENDER\", \"MEMBERSHIP_PACKAGE\", \"PAYMENT_MODE\"]\n",
    "data_config = DataConfig(\n",
    "    target=[\n",
    "        \"TARGET\"\n",
    "    ], \n",
    "    continuous_cols=num_col_names,\n",
    "    categorical_cols=categorical_columns\n",
    ")\n",
    "trainer_config = TrainerConfig(\n",
    "    auto_lr_find=True,  # Runs the LRFinder to automatically derive a learning rate\n",
    "    batch_size=64,\n",
    "    max_epochs=200,\n",
    ")\n",
    "optimizer_config = OptimizerConfig()\n",
    "\n",
    "model_config = CategoryEmbeddingModelConfig(\n",
    "    task=\"classification\",\n",
    "    layers=\"1024-512-512\",  # Number of nodes in each layer\n",
    "    activation=\"LeakyReLU\",  # Activation between each layers\n",
    "    learning_rate=1e-3,\n",
    "    metrics = ['accuracy']\n",
    ")\n",
    "\n",
    "tabular_model = TabularModel(\n",
    "    data_config=data_config,\n",
    "    model_config=model_config,\n",
    "    optimizer_config=optimizer_config,\n",
    "    trainer_config=trainer_config,\n",
    ")\n",
    "tabular_model.fit(train=train, validation=val)\n",
    "result = tabular_model.evaluate(test)\n",
    "pred_df = tabular_model.predict(test)\n",
    "tabular_model.save_model(paths.MODEL_EMBEDED)\n",
    "# loaded_model = TabularModel.load_from_checkpoint(paths.MODEL_EMBEDED)"
   ]
  },
  {
   "cell_type": "code",
   "execution_count": 8,
   "id": "575837e0-aa0a-4a4f-a85f-a297555e82eb",
   "metadata": {},
   "outputs": [
    {
     "name": "stdout",
     "output_type": "stream",
     "text": [
      "   | Name                                    | Type                      | Params\n",
      "---------------------------------------------------------------------------------------\n",
      "0  | _backbone                               | CategoryEmbeddingBackbone | 812 K \n",
      "1  | _backbone.linear_layers                 | Sequential                | 812 K \n",
      "2  | _backbone.linear_layers.0               | Linear                    | 24.6 K\n",
      "3  | _backbone.linear_layers.1               | LeakyReLU                 | 0     \n",
      "4  | _backbone.linear_layers.2               | Linear                    | 524 K \n",
      "5  | _backbone.linear_layers.3               | LeakyReLU                 | 0     \n",
      "6  | _backbone.linear_layers.4               | Linear                    | 262 K \n",
      "7  | _backbone.linear_layers.5               | LeakyReLU                 | 0     \n",
      "8  | _embedding_layer                        | Embedding1dLayer          | 76    \n",
      "9  | _embedding_layer.cat_embedding_layers   | ModuleList                | 50    \n",
      "10 | _embedding_layer.cat_embedding_layers.0 | Embedding                 | 18    \n",
      "11 | _embedding_layer.cat_embedding_layers.1 | Embedding                 | 8     \n",
      "12 | _embedding_layer.cat_embedding_layers.2 | Embedding                 | 6     \n",
      "13 | _embedding_layer.cat_embedding_layers.3 | Embedding                 | 18    \n",
      "14 | _embedding_layer.normalizing_batch_norm | BatchNorm1d               | 26    \n",
      "15 | head                                    | LinearHead                | 1.0 K \n",
      "16 | head.layers                             | Sequential                | 1.0 K \n",
      "17 | head.layers.0                           | Linear                    | 1.0 K \n",
      "18 | loss                                    | CrossEntropyLoss          | 0     \n",
      "---------------------------------------------------------------------------------------\n",
      "813 K     Trainable params\n",
      "0         Non-trainable params\n",
      "813 K     Total params\n",
      "3.253     Total estimated model params size (MB)\n"
     ]
    }
   ],
   "source": [
    "tabular_model.summary()"
   ]
  },
  {
   "cell_type": "code",
   "execution_count": 22,
   "id": "aac9d067-652a-43b4-bbed-f1bc7d32d17d",
   "metadata": {},
   "outputs": [
    {
     "data": {
      "text/html": [
       "<pre style=\"white-space:pre;overflow-x:auto;line-height:normal;font-family:Menlo,'DejaVu Sans Mono',consolas,'Courier New',monospace\">Encoding the data... <span style=\"color: #729c1f; text-decoration-color: #729c1f\">━━━━━━━━━━━━━━━━━━━━━━━━━━━━━━━━━━━━━━━━</span> <span style=\"color: #800080; text-decoration-color: #800080\">100%</span> <span style=\"color: #808000; text-decoration-color: #808000\">0:00:00</span>\n",
       "</pre>\n"
      ],
      "text/plain": [
       "Encoding the data... \u001b[38;2;114;156;31m━━━━━━━━━━━━━━━━━━━━━━━━━━━━━━━━━━━━━━━━\u001b[0m \u001b[35m100%\u001b[0m \u001b[33m0:00:00\u001b[0m\n"
      ]
     },
     "metadata": {},
     "output_type": "display_data"
    },
    {
     "data": {
      "text/html": [
       "<pre style=\"white-space:pre;overflow-x:auto;line-height:normal;font-family:Menlo,'DejaVu Sans Mono',consolas,'Courier New',monospace\"></pre>\n"
      ],
      "text/plain": []
     },
     "metadata": {},
     "output_type": "display_data"
    },
    {
     "data": {
      "text/html": [
       "<pre style=\"white-space:pre;overflow-x:auto;line-height:normal;font-family:Menlo,'DejaVu Sans Mono',consolas,'Courier New',monospace\">\n",
       "</pre>\n"
      ],
      "text/plain": [
       "\n"
      ]
     },
     "metadata": {},
     "output_type": "display_data"
    }
   ],
   "source": [
    "transformer = CategoricalEmbeddingTransformer(tabular_model)\n",
    "train_transformed = transformer.fit_transform(train)"
   ]
  },
  {
   "cell_type": "code",
   "execution_count": 23,
   "id": "a143b562-a1c6-4863-ac24-94b54b1cde74",
   "metadata": {},
   "outputs": [
    {
     "data": {
      "text/plain": [
       "((7460, 17), (1865, 17))"
      ]
     },
     "execution_count": 23,
     "metadata": {},
     "output_type": "execute_result"
    }
   ],
   "source": [
    "# Features and Target variable\n",
    "X = df.drop('TARGET', axis=1)\n",
    "y = df['TARGET']\n",
    "\n",
    "# Splitting the dataset into training and testing sets (80% training, 20% testing)\n",
    "X_train, X_test, y_train, y_test = train_test_split(X, y, test_size=0.2, random_state=42)\n",
    "\n",
    "X_train.shape, X_test.shape"
   ]
  },
  {
   "cell_type": "code",
   "execution_count": 24,
   "id": "51184ded-bdf0-4268-b121-2bb1fd6cf2b7",
   "metadata": {},
   "outputs": [
    {
     "data": {
      "text/html": [
       "<pre style=\"white-space:pre;overflow-x:auto;line-height:normal;font-family:Menlo,'DejaVu Sans Mono',consolas,'Courier New',monospace\">Encoding the data... <span style=\"color: #729c1f; text-decoration-color: #729c1f\">━━━━━━━━━━━━━━━━━━━━━━━━━━━━━━━━━━━━━━━━</span> <span style=\"color: #800080; text-decoration-color: #800080\">100%</span> <span style=\"color: #808000; text-decoration-color: #808000\">0:00:00</span>\n",
       "</pre>\n"
      ],
      "text/plain": [
       "Encoding the data... \u001b[38;2;114;156;31m━━━━━━━━━━━━━━━━━━━━━━━━━━━━━━━━━━━━━━━━\u001b[0m \u001b[35m100%\u001b[0m \u001b[33m0:00:00\u001b[0m\n"
      ]
     },
     "metadata": {},
     "output_type": "display_data"
    },
    {
     "data": {
      "text/html": [
       "<pre style=\"white-space:pre;overflow-x:auto;line-height:normal;font-family:Menlo,'DejaVu Sans Mono',consolas,'Courier New',monospace\"></pre>\n"
      ],
      "text/plain": []
     },
     "metadata": {},
     "output_type": "display_data"
    },
    {
     "data": {
      "text/html": [
       "<pre style=\"white-space:pre;overflow-x:auto;line-height:normal;font-family:Menlo,'DejaVu Sans Mono',consolas,'Courier New',monospace\">\n",
       "</pre>\n"
      ],
      "text/plain": [
       "\n"
      ]
     },
     "metadata": {},
     "output_type": "display_data"
    }
   ],
   "source": [
    "X_train = transformer.transform(X_train)\n",
    "X_test = transformer.transform(X_test)"
   ]
  },
  {
   "cell_type": "code",
   "execution_count": 25,
   "id": "8968760e-a694-42e5-8aa1-2ab5ce535686",
   "metadata": {},
   "outputs": [
    {
     "data": {
      "text/plain": [
       "((7460, 23), (1865, 23))"
      ]
     },
     "execution_count": 25,
     "metadata": {},
     "output_type": "execute_result"
    }
   ],
   "source": [
    "X_train.shape, X_test.shape"
   ]
  },
  {
   "cell_type": "code",
   "execution_count": 26,
   "id": "0546d1bb-f437-41f0-9fd4-4d4d803e0143",
   "metadata": {},
   "outputs": [],
   "source": [
    "X_train.to_csv(paths.PROCESSED_DATA + \"/X_train.csv\", index=False)\n",
    "X_test.to_csv(paths.PROCESSED_DATA + \"/X_test.csv\", index=False)\n",
    "y_train.to_csv(paths.PROCESSED_DATA + \"/y_train.csv\", index=False)\n",
    "y_test.to_csv(paths.PROCESSED_DATA + \"/y_test.csv\", index=False)"
   ]
  },
  {
   "cell_type": "code",
   "execution_count": null,
   "id": "47d47896-299f-4dba-93ef-95c6e1a874c8",
   "metadata": {},
   "outputs": [],
   "source": []
  }
 ],
 "metadata": {
  "kernelspec": {
   "display_name": "dungpa_env_py39",
   "language": "python",
   "name": "dungpa_env_py39"
  },
  "language_info": {
   "codemirror_mode": {
    "name": "ipython",
    "version": 3
   },
   "file_extension": ".py",
   "mimetype": "text/x-python",
   "name": "python",
   "nbconvert_exporter": "python",
   "pygments_lexer": "ipython3",
   "version": "3.9.12"
  }
 },
 "nbformat": 4,
 "nbformat_minor": 5
}
